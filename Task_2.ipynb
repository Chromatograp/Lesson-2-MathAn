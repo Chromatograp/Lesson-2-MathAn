{
  "nbformat": 4,
  "nbformat_minor": 0,
  "metadata": {
    "kernelspec": {
      "display_name": "Python 3",
      "language": "python",
      "name": "python3"
    },
    "language_info": {
      "codemirror_mode": {
        "name": "ipython",
        "version": 3
      },
      "file_extension": ".py",
      "mimetype": "text/x-python",
      "name": "python",
      "nbconvert_exporter": "python",
      "pygments_lexer": "ipython3",
      "version": "3.6.0"
    },
    "colab": {
      "name": "Копия 2.3.ipynb",
      "provenance": [],
      "collapsed_sections": []
    }
  },
  "cells": [
    {
      "cell_type": "code",
      "metadata": {
        "colab": {
          "base_uri": "https://localhost:8080/"
        },
        "id": "YAJyrybSUjAB",
        "outputId": "8669ea69-8e0f-448f-faab-2fbf61c002e2"
      },
      "source": [
        "print('Задание 3.')\n",
        "\n",
        "a = {2, 3, 5}\n",
        "b = {1, 4, 9}\n",
        "c = {3, 7, 6}\n",
        "\n",
        "print('Множества:')\n",
        "print('a =', a)\n",
        "print('b =', b)\n",
        "print('c =', c)\n",
        "print('Объединение:')\n",
        "print('a + b =', a | b)\n",
        "print('b + c =', b | c)\n",
        "print('a + b + c =', a | b | c)\n",
        "print('Пересечение:')\n",
        "print('a + b =', b.intersection(a))\n",
        "print('b + c =', b & c)\n",
        "print('a + b + c =', a & b & c)\n",
        "print('Разность:')\n",
        "print('a + b =', a - b)\n",
        "print('b + c =', b - c)\n",
        "print('a + b + c =', a - b - c)\n",
        "print('Симметричная разность:')\n",
        "print('a + b =', a ^ b)\n",
        "print('b + c =', b ^ c)\n",
        "print('a + b + c =', a ^ b ^ c)"
      ],
      "execution_count": 7,
      "outputs": [
        {
          "output_type": "stream",
          "text": [
            "Задание 3.\n",
            "Множества:\n",
            "a = {2, 3, 5}\n",
            "b = {1, 4, 9}\n",
            "c = {3, 6, 7}\n",
            "Объединение:\n",
            "a + b = {1, 2, 3, 4, 5, 9}\n",
            "b + c = {1, 3, 4, 6, 7, 9}\n",
            "a + b + c = {1, 2, 3, 4, 5, 6, 7, 9}\n",
            "Пересечение:\n",
            "a + b = set()\n",
            "b + c = set()\n",
            "a + b + c = set()\n",
            "Разность:\n",
            "a + b = {2, 3, 5}\n",
            "b + c = {1, 4, 9}\n",
            "a + b + c = {2, 5}\n",
            "Симметричная разность:\n",
            "a + b = {1, 2, 3, 4, 5, 9}\n",
            "b + c = {1, 3, 4, 6, 7, 9}\n",
            "a + b + c = {1, 2, 4, 5, 6, 7, 9}\n"
          ],
          "name": "stdout"
        }
      ]
    }
  ]
}